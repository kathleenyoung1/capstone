{
 "cells": [
  {
   "cell_type": "code",
   "execution_count": null,
   "id": "718fd77a",
   "metadata": {},
   "outputs": [],
   "source": [
    "import librosa\n",
    "import numpy as np\n",
    "import math\n",
    "import pandas as pd\n",
    "import re\n",
    "from IPython.display import Audio\n",
    "import librosa.display\n",
    "import matplotlib.pyplot as plt\n",
    "import seaborn as sns\n",
    "import glob\n",
    "import os\n",
    "from pathlib import Path\n",
    "import json"
   ]
  },
  {
   "cell_type": "code",
   "execution_count": null,
   "id": "7ab206c9",
   "metadata": {},
   "outputs": [],
   "source": [
    "def play_audio(signal, rate):\n",
    "    return Audio(data=signal, rate=rate)"
   ]
  },
  {
   "cell_type": "code",
   "execution_count": null,
   "id": "b4afe5f5",
   "metadata": {},
   "outputs": [],
   "source": [
    "wavs = [path for path in Path('C:/Users/yagne/Downloads/wavs/wavs/').rglob('*.wav')]\n",
    "jsons = [path for path in Path('C:/Users/yagne/Downloads/wavs/wavs/').rglob('*.json')]"
   ]
  },
  {
   "cell_type": "code",
   "execution_count": null,
   "id": "8ce11a95",
   "metadata": {},
   "outputs": [],
   "source": [
    "wav_file, wav_sr = librosa.load(wavs[0], sr=librosa.core.get_samplerate(wavs[0]), )"
   ]
  },
  {
   "cell_type": "code",
   "execution_count": null,
   "id": "cfcccb76",
   "metadata": {},
   "outputs": [],
   "source": [
    "df = pd.read_json(jsons[0])\n",
    "df['file'] = wavs[0].name\n",
    "df['length'] = df['end'] - df['start']\n",
    "df['start_idx'] = np.floor(df['start']*wav_sr).astype(int)\n",
    "df['end_idx'] = np.ceil(df['end']*wav_sr).astype(int)\n",
    "df['word_count'] = df['text'].apply(lambda x: len(x.split(\" \")))"
   ]
  },
  {
   "cell_type": "code",
   "execution_count": null,
   "id": "d8380fa5",
   "metadata": {},
   "outputs": [],
   "source": [
    "data = df.loc[(df['word_count'] >= 40) & (df['speaker_role'] == 'scotus_justice')].copy().reset_index(drop=True)"
   ]
  },
  {
   "cell_type": "code",
   "execution_count": null,
   "id": "c3cc0e09",
   "metadata": {},
   "outputs": [],
   "source": [
    "print(f'{wav_file.shape[0]:,} samples with sampling rate {wav_sr}')\n",
    "print(f'{df.shape[0]} transcript lines')\n",
    "print(f\"{data.shape[0]} viable segments\")"
   ]
  },
  {
   "cell_type": "code",
   "execution_count": null,
   "id": "b0f47b33",
   "metadata": {},
   "outputs": [],
   "source": [
    "play_audio(wav_file, wav_sr)"
   ]
  },
  {
   "cell_type": "code",
   "execution_count": null,
   "id": "40acd603",
   "metadata": {
    "scrolled": true
   },
   "outputs": [],
   "source": [
    "data.sample(n=4)"
   ]
  },
  {
   "cell_type": "code",
   "execution_count": null,
   "id": "41bb1b49",
   "metadata": {},
   "outputs": [],
   "source": [
    "row = dict(data.iloc[0])"
   ]
  },
  {
   "cell_type": "code",
   "execution_count": null,
   "id": "2177117d",
   "metadata": {},
   "outputs": [],
   "source": [
    "start = row['start_idx']\n",
    "end = row['end_idx']\n",
    "clip = wav_file[start:end]\n",
    "\n",
    "o_env = librosa.onset.onset_strength(clip, sr=wav_sr, max_size=5)\n",
    "times = librosa.times_like(o_env, sr=wav_sr)\n",
    "onset_frames = librosa.onset.onset_detect(onset_envelope=o_env, sr=wav_sr, units=\"time\")\n",
    "onset_dt = librosa.feature.delta(o_env)\n",
    "onset_diff = np.diff(onset_frames)"
   ]
  },
  {
   "cell_type": "code",
   "execution_count": null,
   "id": "b83d822a",
   "metadata": {},
   "outputs": [],
   "source": [
    "plt.plot(np.diff(onset_frames))"
   ]
  },
  {
   "cell_type": "code",
   "execution_count": null,
   "id": "3dac4280",
   "metadata": {},
   "outputs": [],
   "source": [
    "row"
   ]
  },
  {
   "cell_type": "code",
   "execution_count": null,
   "id": "b8952004",
   "metadata": {},
   "outputs": [],
   "source": [
    "def get_onset_values(audio, sr, row):\n",
    "    start = row['start_idx']\n",
    "    end = row['end_idx']   \n",
    "    # More standard but slower because it has to load in file\n",
    "    # Each time. Either speed or assume quality risk.\n",
    "#     clip, sr = librosa.load(wavs[0],\n",
    "#                             sr=librosa.core.get_samplerate(wavs[0]),\n",
    "#                             offset=row['start'],\n",
    "#                             duration=row['length']\n",
    "#                            )\n",
    "    # Faster but MIGHT (don't know how likely) cause data quality issues\n",
    "    clip = audio[start:end]\n",
    "\n",
    "\n",
    "    try:\n",
    "        o_env = librosa.onset.onset_strength(clip, sr=sr, max_size=5)\n",
    "        times = librosa.times_like(o_env, sr=sr)\n",
    "        onset_frames = librosa.onset.onset_detect(onset_envelope=o_env, sr=sr)\n",
    "        onset_dt = librosa.feature.delta(o_env)\n",
    "\n",
    "        row['onset_count'] = onset_frames.shape[0]\n",
    "        row['onset_rate'] = row['onset_count']/row['length']\n",
    "\n",
    "        row['onset_strength_mean'] = np.mean(o_env)\n",
    "        row['onset_strength_seg_var'] = np.var(o_env)\n",
    "        row['onset_strength_seg_std'] = np.std(o_env)\n",
    "\n",
    "        row['onset_delta_abs_mean'] = np.mean(np.abs(onset_dt))\n",
    "        row['onset_delta_var'] = np.var(onset_dt)\n",
    "\n",
    "    except:\n",
    "        row['onset_count'] = 0\n",
    "        row['onset_rate'] = 0\n",
    "        row['onset_strength_mean'] = 0\n",
    "        row['onset_strength_seg_var'] = 0\n",
    "        row['onset_strength_seg_std'] = 0\n",
    "\n",
    "        row['onset_delta_abs_mean'] = 0\n",
    "        row['onset_delta_var'] = 0\n",
    "\n",
    "        \n",
    "    return row"
   ]
  },
  {
   "cell_type": "code",
   "execution_count": null,
   "id": "87b06ec6",
   "metadata": {
    "scrolled": false
   },
   "outputs": [],
   "source": [
    "data = data.apply(lambda x: get_onset_values(wav_file, wav_sr, x), axis=1)"
   ]
  },
  {
   "cell_type": "code",
   "execution_count": null,
   "id": "cf51df2b",
   "metadata": {},
   "outputs": [],
   "source": [
    "# Could change to median absolute deviation to make no assumptions on distribution (n = 3 for some judges)\n",
    "recording_stats = data.groupby('speaker').agg({\"onset_rate\": [\"mean\",\"std\"], \"onset_strength_mean\": [\"mean\",\"std\"]})\n",
    "\n",
    "exploded_recording_stats = []\n",
    "for r in recording_stats.iterrows():\n",
    "    info = {\n",
    "        \"speaker\": r[0],\n",
    "        \"rec_onset_rate_mean\": r[1]['onset_rate']['mean'],\n",
    "        \"rec_onset_rate_std\": r[1]['onset_rate']['std'],\n",
    "        \"rec_onset_str_mean\": r[1]['onset_strength_mean']['mean'],\n",
    "        \"rec_onset_str_std\": r[1]['onset_strength_mean']['std'],\n",
    "    }\n",
    "    exploded_recording_stats.append(info)\n",
    "recording_stats = pd.DataFrame(exploded_recording_stats)\n",
    "\n",
    "data = data.merge(recording_stats, on=\"speaker\")"
   ]
  },
  {
   "cell_type": "code",
   "execution_count": null,
   "id": "1584ecc7",
   "metadata": {},
   "outputs": [],
   "source": [
    "data.columns"
   ]
  },
  {
   "cell_type": "code",
   "execution_count": null,
   "id": "e42f1436",
   "metadata": {},
   "outputs": [],
   "source": [
    "data['rec_onset_rate_dev'] = (data['onset_rate'] - data['rec_onset_rate_mean'])/data['rec_onset_rate_std']\n",
    "data['rec_onset_str_dev'] = (data['onset_strength_mean'] - data['rec_onset_str_mean'])/data['rec_onset_str_std']"
   ]
  },
  {
   "cell_type": "code",
   "execution_count": null,
   "id": "59729adf",
   "metadata": {},
   "outputs": [],
   "source": [
    "all_data = []\n",
    "\n",
    "for w in wavs:\n",
    "    wav_file, wav_sr = librosa.load(w, sr=librosa.core.get_samplerate(w), )\n",
    "    df = pd.read_json(os.path.join(w.parent,w.name.replace(\".wav\",\".json\")))\n",
    "    df['file'] = w.name\n",
    "    df['length'] = df['end'] - df['start']\n",
    "    df['start_idx'] = np.floor(df['start']*wav_sr).astype(int)\n",
    "    df['end_idx'] = np.ceil(df['end']*wav_sr).astype(int)\n",
    "    df['word_count'] = df['text'].apply(lambda x: len(x.split(\" \")))\n",
    "    \n",
    "    data = df.loc[(df['word_count'] >= 40) & (df['speaker_role'] == 'scotus_justice')].copy().reset_index(drop=True)\n",
    "    data = data.apply(lambda x: get_onset_values(wav_file, wav_sr, x), axis=1)\n",
    "    \n",
    "#     recording_stats = data.groupby('speaker').agg({\"onset_rate\": [\"mean\",\"std\"], \"onset_strength_mean\": [\"mean\",\"std\"]})\n",
    "#     exploded_recording_stats = []\n",
    "#     for r in recording_stats.iterrows():\n",
    "#         info = {\n",
    "#             \"speaker\": r[0],\n",
    "#             \"rec_onset_rate_mean\": r[1]['onset_rate']['mean'],\n",
    "#             \"rec_onset_rate_std\": r[1]['onset_rate']['std'],\n",
    "#             \"rec_onset_str_mean\": r[1]['onset_strength_mean']['mean'],\n",
    "#             \"rec_onset_str_std\": r[1]['onset_strength_mean']['std'],\n",
    "#         }\n",
    "#         exploded_recording_stats.append(info)\n",
    "#     recording_stats = pd.DataFrame(exploded_recording_stats)\n",
    "\n",
    "#     data = data.merge(recording_stats, on=\"speaker\")\n",
    "#     data['rec_onset_rate_dev'] = (data['onset_rate'] - data['rec_onset_rate_mean'])/data['rec_onset_rate_std']\n",
    "#     data['rec_onset_str_dev'] = (data['onset_strength_mean'] - data['rec_onset_str_mean'])/data['rec_onset_str_std']\n",
    "\n",
    "    all_data.append(data)"
   ]
  },
  {
   "cell_type": "code",
   "execution_count": null,
   "id": "9fd95178",
   "metadata": {},
   "outputs": [],
   "source": [
    "all_data_df = pd.concat(all_data)"
   ]
  },
  {
   "cell_type": "code",
   "execution_count": null,
   "id": "9ed76ab9",
   "metadata": {},
   "outputs": [],
   "source": [
    "all_data_df.to_parquet(\"data.pq\")"
   ]
  },
  {
   "cell_type": "code",
   "execution_count": null,
   "id": "7737cbb7",
   "metadata": {},
   "outputs": [],
   "source": [
    "check = pd.read_parquet(\"data.pq\")"
   ]
  },
  {
   "cell_type": "code",
   "execution_count": null,
   "id": "43e3a37d",
   "metadata": {
    "scrolled": false
   },
   "outputs": [],
   "source": [
    "# check.loc[check['onset_delta_var'] == 0]\n",
    "check.sample(n=4)"
   ]
  },
  {
   "cell_type": "code",
   "execution_count": null,
   "id": "3e909b7e",
   "metadata": {},
   "outputs": [],
   "source": [
    "# Number of onsets\n",
    "# Onset Rate\n",
    "# Time difference between onsets (np.diff) --> mean, variance\n",
    "\n",
    "# For across-audio file segments --> stick within one year of case dates\n",
    "# Project down to 32 mels instead of default 144 mels"
   ]
  },
  {
   "cell_type": "code",
   "execution_count": null,
   "id": "c6474d6f",
   "metadata": {},
   "outputs": [],
   "source": []
  }
 ],
 "metadata": {
  "kernelspec": {
   "display_name": "Python 3 (ipykernel)",
   "language": "python",
   "name": "python3"
  },
  "language_info": {
   "codemirror_mode": {
    "name": "ipython",
    "version": 3
   },
   "file_extension": ".py",
   "mimetype": "text/x-python",
   "name": "python",
   "nbconvert_exporter": "python",
   "pygments_lexer": "ipython3",
   "version": "3.9.7"
  }
 },
 "nbformat": 4,
 "nbformat_minor": 5
}
