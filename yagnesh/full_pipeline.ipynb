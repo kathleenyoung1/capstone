{
 "cells": [
  {
   "cell_type": "markdown",
   "id": "e1063f21",
   "metadata": {},
   "source": [
    "# Process\n",
    "1. Set arguments\n",
    "2. Read data\n",
    "3. Filtering\n",
    "4. Feature Extraction\n",
    "5. BERT"
   ]
  },
  {
   "cell_type": "code",
   "execution_count": 1,
   "id": "0ed64481",
   "metadata": {},
   "outputs": [],
   "source": [
    "import librosa\n",
    "import numpy as np\n",
    "import pandas as pd\n",
    "import os\n",
    "from pathlib import Path"
   ]
  },
  {
   "cell_type": "markdown",
   "id": "9cfd0c5a",
   "metadata": {},
   "source": [
    "## Arguments"
   ]
  },
  {
   "cell_type": "code",
   "execution_count": 2,
   "id": "a217f015",
   "metadata": {},
   "outputs": [],
   "source": [
    "min_words = 40"
   ]
  },
  {
   "cell_type": "markdown",
   "id": "7524cbe0",
   "metadata": {},
   "source": [
    "## Data"
   ]
  },
  {
   "cell_type": "code",
   "execution_count": 3,
   "id": "be59c10a",
   "metadata": {},
   "outputs": [],
   "source": [
    "wavs = [path for path in Path('../../wavs/').rglob('*.wav')]\n",
    "jsons = [path for path in Path('../../wavs/').rglob('*.json')]"
   ]
  },
  {
   "cell_type": "code",
   "execution_count": 4,
   "id": "3dd16ba7",
   "metadata": {},
   "outputs": [
    {
     "data": {
      "text/plain": [
       "(WindowsPath('../../wavs/142-orig.wav'),\n",
       " WindowsPath('../../wavs/142-orig.json'))"
      ]
     },
     "execution_count": 4,
     "metadata": {},
     "output_type": "execute_result"
    }
   ],
   "source": [
    "wavs[0], jsons[0]"
   ]
  },
  {
   "cell_type": "code",
   "execution_count": 5,
   "id": "a250e798",
   "metadata": {},
   "outputs": [
    {
     "data": {
      "text/plain": [
       "(56, 57)"
      ]
     },
     "execution_count": 5,
     "metadata": {},
     "output_type": "execute_result"
    }
   ],
   "source": [
    "len(wavs), len(jsons)"
   ]
  },
  {
   "cell_type": "code",
   "execution_count": 6,
   "id": "69f00876",
   "metadata": {},
   "outputs": [],
   "source": [
    "wav_file, wav_sr = librosa.load(wavs[0], sr=librosa.core.get_samplerate(wavs[0]))\n",
    "\n",
    "df = pd.read_json(jsons[0])\n",
    "df['file'] = wavs[0].name\n",
    "df['line'] = df.index\n",
    "df['duration'] = df['end'] - df['start']\n",
    "df['start_idx'] = np.floor(df['start']*wav_sr).astype(int)\n",
    "df['end_idx'] = np.ceil(df['end']*wav_sr).astype(int)\n",
    "df['word_count'] = df['text'].apply(lambda x: len(x.split(\" \")))"
   ]
  },
  {
   "cell_type": "markdown",
   "id": "0640476d",
   "metadata": {},
   "source": [
    "## Filtering\n",
    "- Remove segments that do not belong to judges\n",
    "- Remove segments less than 40 words"
   ]
  },
  {
   "cell_type": "code",
   "execution_count": 7,
   "id": "ab81b7ec",
   "metadata": {},
   "outputs": [
    {
     "name": "stdout",
     "output_type": "stream",
     "text": [
      "150 transcript lines\n",
      "37 viable segments\n"
     ]
    }
   ],
   "source": [
    "data = df.loc[(df['word_count'] >= 40) & (df['speaker_role'] == 'scotus_justice')].copy().reset_index(drop=True)\n",
    "print(f'{df.shape[0]} transcript lines')\n",
    "print(f\"{data.shape[0]} viable segments\")"
   ]
  },
  {
   "cell_type": "markdown",
   "id": "85a0b9c6",
   "metadata": {},
   "source": [
    "## Score (BERT) Preparation"
   ]
  },
  {
   "cell_type": "code",
   "execution_count": 19,
   "id": "a47e5897",
   "metadata": {},
   "outputs": [
    {
     "name": "stdout",
     "output_type": "stream",
     "text": [
      "0\n",
      "10\n",
      "20\n",
      "30\n",
      "40\n",
      "50\n",
      "\n",
      " Record Info:\n",
      "(2545, 6)\n",
      "Wall time: 328 ms\n"
     ]
    }
   ],
   "source": [
    "%%time\n",
    "all_data = []\n",
    "for i,w in enumerate(wavs):\n",
    "    if i % 10 == 0:\n",
    "        print(i)\n",
    "    df = pd.read_json(os.path.join(w.parent,w.name.replace(\".wav\",\".json\")))\n",
    "    df['file'] = w.name\n",
    "    df['line'] = df.index\n",
    "    df['word_count'] = df['text'].apply(lambda x: len(x.split(\" \")))\n",
    "    data = df.loc[(df['word_count'] >= 40) & (df['speaker_role'] == 'scotus_justice')].copy().reset_index(drop=True)\n",
    "    data = data[['file','line','speaker','start','end','text']]\n",
    "\n",
    "    all_data.append(data)\n",
    "    \n",
    "bert_metadata = pd.concat(all_data)\n",
    "print(\"\\n Record Info:\")\n",
    "print(bert_metadata.shape)"
   ]
  },
  {
   "cell_type": "code",
   "execution_count": 21,
   "id": "715a0a7b",
   "metadata": {},
   "outputs": [
    {
     "data": {
      "text/html": [
       "<div>\n",
       "<style scoped>\n",
       "    .dataframe tbody tr th:only-of-type {\n",
       "        vertical-align: middle;\n",
       "    }\n",
       "\n",
       "    .dataframe tbody tr th {\n",
       "        vertical-align: top;\n",
       "    }\n",
       "\n",
       "    .dataframe thead th {\n",
       "        text-align: right;\n",
       "    }\n",
       "</style>\n",
       "<table border=\"1\" class=\"dataframe\">\n",
       "  <thead>\n",
       "    <tr style=\"text-align: right;\">\n",
       "      <th></th>\n",
       "      <th>file</th>\n",
       "      <th>line</th>\n",
       "      <th>speaker</th>\n",
       "      <th>start</th>\n",
       "      <th>end</th>\n",
       "      <th>text</th>\n",
       "    </tr>\n",
       "  </thead>\n",
       "  <tbody>\n",
       "    <tr>\n",
       "      <th>15</th>\n",
       "      <td>20-297.wav</td>\n",
       "      <td>87</td>\n",
       "      <td>Brett_M_Kavanaugh</td>\n",
       "      <td>1627.99</td>\n",
       "      <td>1645.185</td>\n",
       "      <td>To pick up on Justice Alito and also Justice G...</td>\n",
       "    </tr>\n",
       "    <tr>\n",
       "      <th>51</th>\n",
       "      <td>20-334.wav</td>\n",
       "      <td>206</td>\n",
       "      <td>Elena_Kagan</td>\n",
       "      <td>3339.54</td>\n",
       "      <td>3382.060</td>\n",
       "      <td>Okay. So -- but then, if you turn to 1924, 192...</td>\n",
       "    </tr>\n",
       "    <tr>\n",
       "      <th>11</th>\n",
       "      <td>19-8709.wav</td>\n",
       "      <td>56</td>\n",
       "      <td>Neil_Gorsuch</td>\n",
       "      <td>1369.40</td>\n",
       "      <td>1393.010</td>\n",
       "      <td>Counsel, good morning. I -- I'd like to unders...</td>\n",
       "    </tr>\n",
       "    <tr>\n",
       "      <th>12</th>\n",
       "      <td>19-357.wav</td>\n",
       "      <td>115</td>\n",
       "      <td>Sonia_Sotomayor</td>\n",
       "      <td>1957.92</td>\n",
       "      <td>1979.400</td>\n",
       "      <td>-- just the refusal to turn over something tha...</td>\n",
       "    </tr>\n",
       "  </tbody>\n",
       "</table>\n",
       "</div>"
      ],
      "text/plain": [
       "           file  line            speaker    start       end  \\\n",
       "15   20-297.wav    87  Brett_M_Kavanaugh  1627.99  1645.185   \n",
       "51   20-334.wav   206        Elena_Kagan  3339.54  3382.060   \n",
       "11  19-8709.wav    56       Neil_Gorsuch  1369.40  1393.010   \n",
       "12   19-357.wav   115    Sonia_Sotomayor  1957.92  1979.400   \n",
       "\n",
       "                                                 text  \n",
       "15  To pick up on Justice Alito and also Justice G...  \n",
       "51  Okay. So -- but then, if you turn to 1924, 192...  \n",
       "11  Counsel, good morning. I -- I'd like to unders...  \n",
       "12  -- just the refusal to turn over something tha...  "
      ]
     },
     "execution_count": 21,
     "metadata": {},
     "output_type": "execute_result"
    }
   ],
   "source": [
    "bert_metadata.to_json('bert_metadata.json', orient='records')\n",
    "bert_metadata.sample(n=4)"
   ]
  },
  {
   "cell_type": "markdown",
   "id": "16d57a0d",
   "metadata": {},
   "source": [
    "## Features\n",
    "- Pitch\n",
    "- Onset"
   ]
  },
  {
   "cell_type": "markdown",
   "id": "4209075d",
   "metadata": {},
   "source": [
    "### Pitch"
   ]
  },
  {
   "cell_type": "code",
   "execution_count": null,
   "id": "65e86776",
   "metadata": {},
   "outputs": [],
   "source": [
    "def get_features(audio, sr, row):\n",
    "    start = row['start_idx']\n",
    "    end = row['end_idx']   \n",
    "    clip = audio[start:end]\n",
    "    \n",
    "    try:\n",
    "        f0, _, _ = librosa.pyin(clip, fmin=librosa.note_to_hz('C2'), fmax=librosa.note_to_hz('C7'))\n",
    "\n",
    "        f0_log = np.log(f0)\n",
    "        row['pitch_log_diff_variance'] = np.nanvar(np.diff(f0_log))\n",
    "        row['pitch_log_mean'] = np.nanmean(f0_log)\n",
    "        row['pitch_log_stdev'] = np.nanstd(f0_log)\n",
    "        row['pitch_2pct'], row['pitch_25pct'], row['pitch_50pct'], row['pitch_75pct'], row['pitch_98pct'] = np.nanquantile(f0, [.02, .25, .5, .75, .98])\n",
    "    except Exception as e:\n",
    "        print(f\"Pitch: {row['file']} {row['line']}, {e}\")\n",
    "        row['pitch_log_diff_variance'] = np.nan\n",
    "        row['pitch_log_mean'] = np.nan\n",
    "        row['pitch_log_stdev'] = np.nan\n",
    "        row['pitch_2pct'], row['pitch_25pct'], row['pitch_50pct'], row['pitch_75pct'], row['pitch_98pct'] = np.nan, np.nan, np.nan, np.nan, np.nan\n",
    "        \n",
    "    try:\n",
    "        o_env = librosa.onset.onset_strength(clip, sr=sr, max_size=5)\n",
    "        times = librosa.times_like(o_env, sr=sr)\n",
    "        onset_times = librosa.onset.onset_detect(onset_envelope=o_env, sr=sr, units=\"time\")\n",
    "        onset_dt = librosa.feature.delta(o_env)\n",
    "\n",
    "        onset_count = onset_times.shape[0]\n",
    "        onset_rate = onset_count/row['duration']\n",
    "        row['onset_count'] = onset_count\n",
    "        row['onset_rate'] = onset_rate\n",
    "\n",
    "        onset_times_diff = np.diff(onset_times)\n",
    "        onset_time_diff_mean = np.mean(onset_times_diff)\n",
    "        onset_time_diff_var = np.var(onset_times_diff)\n",
    "        row['onset_time_diff_mean'] = onset_time_diff_mean\n",
    "        row['onset_time_diff_var'] = onset_time_diff_var\n",
    "    except Exception as e:\n",
    "        print(f\"Onset: {row['file']} {row['line']}, {e}\")\n",
    "        row['onset_count'] = np.nan\n",
    "        row['onset_rate'] = np.nan\n",
    "        row['onset_time_diff_mean'] = np.nan\n",
    "        row['onset_time_diff_var'] = np.nan\n",
    "        \n",
    "    return row"
   ]
  },
  {
   "cell_type": "code",
   "execution_count": null,
   "id": "28b6b083",
   "metadata": {},
   "outputs": [],
   "source": [
    "%%time\n",
    "all_data = []\n",
    "for i,w in enumerate(wavs):\n",
    "    if i % 10 == 0:\n",
    "        print(i)\n",
    "    wav_file, wav_sr = librosa.load(w, sr=librosa.core.get_samplerate(w), )\n",
    "    df = pd.read_json(os.path.join(w.parent,w.name.replace(\".wav\",\".json\")))\n",
    "    df['file'] = w.name\n",
    "    df['line'] = df.index\n",
    "    df['duration'] = df['end'] - df['start']\n",
    "    df['start_idx'] = np.floor(df['start']*wav_sr).astype(int)\n",
    "    df['end_idx'] = np.ceil(df['end']*wav_sr).astype(int)\n",
    "    df['word_count'] = df['text'].apply(lambda x: len(x.split(\" \")))\n",
    "    df['word_rate'] = df['word_count']/df['duration']\n",
    "    \n",
    "    data = df.loc[(df['word_count'] >= 40) & (df['speaker_role'] == 'scotus_justice')].copy().reset_index(drop=True)\n",
    "    data = data.apply(lambda x: get_features(wav_file, wav_sr, x), axis=1)\n",
    "    all_data.append(data)\n",
    "    \n",
    "all_data_df = pd.concat(all_data)\n",
    "print(\"\\n Record Info:\")\n",
    "print(all_data_df.shape)"
   ]
  },
  {
   "cell_type": "code",
   "execution_count": null,
   "id": "b82ecab5",
   "metadata": {
    "scrolled": false
   },
   "outputs": [],
   "source": [
    "all_data_df.to_json('all_data.json', orient=\"records\")"
   ]
  },
  {
   "cell_type": "markdown",
   "id": "965b8a76",
   "metadata": {},
   "source": [
    "# Join with BERT"
   ]
  },
  {
   "cell_type": "code",
   "execution_count": null,
   "id": "3c72e82b",
   "metadata": {},
   "outputs": [],
   "source": [
    "full_data = all_data_df.merge(bert_info[['file','line','BERT-GS_Scores']], on=['file','line'])"
   ]
  },
  {
   "cell_type": "code",
   "execution_count": null,
   "id": "fad96195",
   "metadata": {},
   "outputs": [],
   "source": [
    "full_data.to_csv('full_data.csv', index=False)"
   ]
  },
  {
   "cell_type": "code",
   "execution_count": null,
   "id": "cc7db52f",
   "metadata": {},
   "outputs": [],
   "source": []
  }
 ],
 "metadata": {
  "kernelspec": {
   "display_name": "Python 3 (ipykernel)",
   "language": "python",
   "name": "python3"
  },
  "language_info": {
   "codemirror_mode": {
    "name": "ipython",
    "version": 3
   },
   "file_extension": ".py",
   "mimetype": "text/x-python",
   "name": "python",
   "nbconvert_exporter": "python",
   "pygments_lexer": "ipython3",
   "version": "3.9.7"
  }
 },
 "nbformat": 4,
 "nbformat_minor": 5
}
