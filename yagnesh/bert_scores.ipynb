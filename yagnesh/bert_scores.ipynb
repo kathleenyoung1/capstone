{
 "cells": [
  {
   "cell_type": "code",
   "execution_count": 7,
   "id": "e05efa4d",
   "metadata": {},
   "outputs": [],
   "source": [
    "import pandas as pd\n",
    "import matplotlib.pyplot as plt"
   ]
  },
  {
   "cell_type": "code",
   "execution_count": 4,
   "id": "9a772507",
   "metadata": {},
   "outputs": [],
   "source": [
    "scores = pd.read_csv('../sabrina/BERT4GS_SCOTUS_GOLD.csv')"
   ]
  },
  {
   "cell_type": "code",
   "execution_count": 12,
   "id": "40693be0",
   "metadata": {},
   "outputs": [
    {
     "data": {
      "image/png": "[encoded data removed]",
      "text/plain": [
       "<Figure size 432x288 with 1 Axes>"
      ]
     },
     "metadata": {
      "needs_background": "light"
     },
     "output_type": "display_data"
    }
   ],
   "source": [
    "scores['BERT-GS_Scores'].hist(bins=200)\n",
    "plt.show()"
   ]
  },
  {
   "cell_type": "code",
   "execution_count": 11,
   "id": "1ca58555",
   "metadata": {},
   "outputs": [
    {
     "data": {
      "text/plain": [
       "count    2557.000000\n",
       "mean       -0.149389\n",
       "std         0.686491\n",
       "min        -1.914418\n",
       "25%        -0.642553\n",
       "50%        -0.127579\n",
       "75%         0.351248\n",
       "max         1.581189\n",
       "Name: BERT-GS_Scores, dtype: float64"
      ]
     },
     "execution_count": 11,
     "metadata": {},
     "output_type": "execute_result"
    }
   ],
   "source": [
    "scores['BERT-GS_Scores'].describe()"
   ]
  },
  {
   "cell_type": "code",
   "execution_count": null,
   "id": "c49d0761",
   "metadata": {},
   "outputs": [],
   "source": [
    "# Reweight loss/classes on inverse guassian "
   ]
  }
 ],
 "metadata": {
  "kernelspec": {
   "display_name": "Python 3 (ipykernel)",
   "language": "python",
   "name": "python3"
  },
  "language_info": {
   "codemirror_mode": {
    "name": "ipython",
    "version": 3
   },
   "file_extension": ".py",
   "mimetype": "text/x-python",
   "name": "python",
   "nbconvert_exporter": "python",
   "pygments_lexer": "ipython3",
   "version": "3.9.7"
  }
 },
 "nbformat": 4,
 "nbformat_minor": 5
}
