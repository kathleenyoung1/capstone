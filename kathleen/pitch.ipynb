{
 "cells": [
  {
   "cell_type": "code",
   "execution_count": 18,
   "id": "323339ca",
   "metadata": {},
   "outputs": [],
   "source": [
    "import pandas as pd\n",
    "import matplotlib.pyplot as plt"
   ]
  },
  {
   "cell_type": "code",
   "execution_count": 12,
   "id": "baf02f9d",
   "metadata": {},
   "outputs": [],
   "source": [
    "data = pd.read_csv(\"pitch.csv\")"
   ]
  },
  {
   "cell_type": "code",
   "execution_count": 13,
   "id": "9384653c",
   "metadata": {},
   "outputs": [
    {
     "data": {
      "text/html": [
       "<div>\n",
       "<style scoped>\n",
       "    .dataframe tbody tr th:only-of-type {\n",
       "        vertical-align: middle;\n",
       "    }\n",
       "\n",
       "    .dataframe tbody tr th {\n",
       "        vertical-align: top;\n",
       "    }\n",
       "\n",
       "    .dataframe thead th {\n",
       "        text-align: right;\n",
       "    }\n",
       "</style>\n",
       "<table border=\"1\" class=\"dataframe\">\n",
       "  <thead>\n",
       "    <tr style=\"text-align: right;\">\n",
       "      <th></th>\n",
       "      <th>Unnamed: 0</th>\n",
       "      <th>transcipt</th>\n",
       "      <th>speakers</th>\n",
       "      <th>file</th>\n",
       "      <th>batch</th>\n",
       "      <th>start</th>\n",
       "      <th>end</th>\n",
       "      <th>start_rounded</th>\n",
       "      <th>end_rounded</th>\n",
       "      <th>log_mean_pitch</th>\n",
       "      <th>log_stdev_pitch</th>\n",
       "      <th>pitch_rate_of_change_log_variance</th>\n",
       "      <th>pitch_2_percentile</th>\n",
       "      <th>pitch_25_percentile</th>\n",
       "      <th>pitch_50_percentile</th>\n",
       "      <th>pitch_75_percentile</th>\n",
       "      <th>pitch_98_percentile</th>\n",
       "      <th>word_count</th>\n",
       "      <th>duration</th>\n",
       "    </tr>\n",
       "  </thead>\n",
       "  <tbody>\n",
       "    <tr>\n",
       "      <th>0</th>\n",
       "      <td>0</td>\n",
       "      <td>Mr. Silbert, I want to pick up on that very la...</td>\n",
       "      <td>John_G_Roberts_Jr</td>\n",
       "      <td>18-1447</td>\n",
       "      <td>0</td>\n",
       "      <td>135.905</td>\n",
       "      <td>161.165</td>\n",
       "      <td>136</td>\n",
       "      <td>161</td>\n",
       "      <td>5.414151</td>\n",
       "      <td>0.313577</td>\n",
       "      <td>0.001543</td>\n",
       "      <td>155.563492</td>\n",
       "      <td>187.146775</td>\n",
       "      <td>202.909563</td>\n",
       "      <td>237.156080</td>\n",
       "      <td>560.160674</td>\n",
       "      <td>57</td>\n",
       "      <td>25.260</td>\n",
       "    </tr>\n",
       "    <tr>\n",
       "      <th>1</th>\n",
       "      <td>1</td>\n",
       "      <td>Yes, thank you, Mr. Chief Justice. Counsel, I ...</td>\n",
       "      <td>Clarence_Thomas</td>\n",
       "      <td>18-1447</td>\n",
       "      <td>1</td>\n",
       "      <td>226.020</td>\n",
       "      <td>244.535</td>\n",
       "      <td>226</td>\n",
       "      <td>245</td>\n",
       "      <td>4.585400</td>\n",
       "      <td>0.031675</td>\n",
       "      <td>0.000586</td>\n",
       "      <td>93.834333</td>\n",
       "      <td>94.660658</td>\n",
       "      <td>97.998859</td>\n",
       "      <td>100.289474</td>\n",
       "      <td>103.085487</td>\n",
       "      <td>45</td>\n",
       "      <td>18.515</td>\n",
       "    </tr>\n",
       "    <tr>\n",
       "      <th>2</th>\n",
       "      <td>2</td>\n",
       "      <td>I'd like to -- to pick up on that last questio...</td>\n",
       "      <td>Stephen_G_Breyer</td>\n",
       "      <td>18-1447</td>\n",
       "      <td>2</td>\n",
       "      <td>381.320</td>\n",
       "      <td>421.655</td>\n",
       "      <td>381</td>\n",
       "      <td>422</td>\n",
       "      <td>5.014000</td>\n",
       "      <td>0.273777</td>\n",
       "      <td>0.000811</td>\n",
       "      <td>108.736542</td>\n",
       "      <td>122.759686</td>\n",
       "      <td>138.591315</td>\n",
       "      <td>169.154654</td>\n",
       "      <td>291.743908</td>\n",
       "      <td>102</td>\n",
       "      <td>40.335</td>\n",
       "    </tr>\n",
       "    <tr>\n",
       "      <th>3</th>\n",
       "      <td>3</td>\n",
       "      <td>Section 1606 on which you rely makes a foreign...</td>\n",
       "      <td>Samuel_A_Alito_Jr</td>\n",
       "      <td>18-1447</td>\n",
       "      <td>3</td>\n",
       "      <td>529.875</td>\n",
       "      <td>561.440</td>\n",
       "      <td>530</td>\n",
       "      <td>561</td>\n",
       "      <td>4.958729</td>\n",
       "      <td>0.144191</td>\n",
       "      <td>0.001199</td>\n",
       "      <td>113.879142</td>\n",
       "      <td>125.992938</td>\n",
       "      <td>140.201669</td>\n",
       "      <td>151.137423</td>\n",
       "      <td>190.903399</td>\n",
       "      <td>61</td>\n",
       "      <td>31.565</td>\n",
       "    </tr>\n",
       "    <tr>\n",
       "      <th>4</th>\n",
       "      <td>4</td>\n",
       "      <td>One other question. If we were to rule, hypoth...</td>\n",
       "      <td>Samuel_A_Alito_Jr</td>\n",
       "      <td>18-1447</td>\n",
       "      <td>4</td>\n",
       "      <td>626.835</td>\n",
       "      <td>646.140</td>\n",
       "      <td>627</td>\n",
       "      <td>646</td>\n",
       "      <td>5.800112</td>\n",
       "      <td>0.842117</td>\n",
       "      <td>0.000702</td>\n",
       "      <td>124.905487</td>\n",
       "      <td>145.986692</td>\n",
       "      <td>244.105284</td>\n",
       "      <td>793.100407</td>\n",
       "      <td>968.560811</td>\n",
       "      <td>40</td>\n",
       "      <td>19.305</td>\n",
       "    </tr>\n",
       "  </tbody>\n",
       "</table>\n",
       "</div>"
      ],
      "text/plain": [
       "   Unnamed: 0                                          transcipt  \\\n",
       "0           0  Mr. Silbert, I want to pick up on that very la...   \n",
       "1           1  Yes, thank you, Mr. Chief Justice. Counsel, I ...   \n",
       "2           2  I'd like to -- to pick up on that last questio...   \n",
       "3           3  Section 1606 on which you rely makes a foreign...   \n",
       "4           4  One other question. If we were to rule, hypoth...   \n",
       "\n",
       "            speakers     file  batch    start      end  start_rounded  \\\n",
       "0  John_G_Roberts_Jr  18-1447      0  135.905  161.165            136   \n",
       "1    Clarence_Thomas  18-1447      1  226.020  244.535            226   \n",
       "2   Stephen_G_Breyer  18-1447      2  381.320  421.655            381   \n",
       "3  Samuel_A_Alito_Jr  18-1447      3  529.875  561.440            530   \n",
       "4  Samuel_A_Alito_Jr  18-1447      4  626.835  646.140            627   \n",
       "\n",
       "   end_rounded  log_mean_pitch  log_stdev_pitch  \\\n",
       "0          161        5.414151         0.313577   \n",
       "1          245        4.585400         0.031675   \n",
       "2          422        5.014000         0.273777   \n",
       "3          561        4.958729         0.144191   \n",
       "4          646        5.800112         0.842117   \n",
       "\n",
       "   pitch_rate_of_change_log_variance  pitch_2_percentile  pitch_25_percentile  \\\n",
       "0                           0.001543          155.563492           187.146775   \n",
       "1                           0.000586           93.834333            94.660658   \n",
       "2                           0.000811          108.736542           122.759686   \n",
       "3                           0.001199          113.879142           125.992938   \n",
       "4                           0.000702          124.905487           145.986692   \n",
       "\n",
       "   pitch_50_percentile  pitch_75_percentile  pitch_98_percentile  word_count  \\\n",
       "0           202.909563           237.156080           560.160674          57   \n",
       "1            97.998859           100.289474           103.085487          45   \n",
       "2           138.591315           169.154654           291.743908         102   \n",
       "3           140.201669           151.137423           190.903399          61   \n",
       "4           244.105284           793.100407           968.560811          40   \n",
       "\n",
       "   duration  \n",
       "0    25.260  \n",
       "1    18.515  \n",
       "2    40.335  \n",
       "3    31.565  \n",
       "4    19.305  "
      ]
     },
     "execution_count": 13,
     "metadata": {},
     "output_type": "execute_result"
    }
   ],
   "source": [
    "data.head()"
   ]
  },
  {
   "cell_type": "code",
   "execution_count": 26,
   "id": "1aadf6db",
   "metadata": {},
   "outputs": [],
   "source": [
    "pitch_features = ['log_mean_pitch', 'log_stdev_pitch',\n",
    "       'pitch_rate_of_change_log_variance', 'pitch_2_percentile',\n",
    "       'pitch_25_percentile', 'pitch_50_percentile', 'pitch_75_percentile',\n",
    "       'pitch_98_percentile', 'word_count', 'duration']"
   ]
  },
  {
   "cell_type": "code",
   "execution_count": 27,
   "id": "d709522a",
   "metadata": {},
   "outputs": [
    {
     "data": {
      "text/html": [
       "<div>\n",
       "<style scoped>\n",
       "    .dataframe tbody tr th:only-of-type {\n",
       "        vertical-align: middle;\n",
       "    }\n",
       "\n",
       "    .dataframe tbody tr th {\n",
       "        vertical-align: top;\n",
       "    }\n",
       "\n",
       "    .dataframe thead th {\n",
       "        text-align: right;\n",
       "    }\n",
       "</style>\n",
       "<table border=\"1\" class=\"dataframe\">\n",
       "  <thead>\n",
       "    <tr style=\"text-align: right;\">\n",
       "      <th></th>\n",
       "      <th>log_mean_pitch</th>\n",
       "      <th>log_stdev_pitch</th>\n",
       "      <th>pitch_rate_of_change_log_variance</th>\n",
       "      <th>pitch_2_percentile</th>\n",
       "      <th>pitch_25_percentile</th>\n",
       "      <th>pitch_50_percentile</th>\n",
       "      <th>pitch_75_percentile</th>\n",
       "      <th>pitch_98_percentile</th>\n",
       "      <th>word_count</th>\n",
       "      <th>duration</th>\n",
       "    </tr>\n",
       "  </thead>\n",
       "  <tbody>\n",
       "    <tr>\n",
       "      <th>count</th>\n",
       "      <td>2515.000000</td>\n",
       "      <td>2515.000000</td>\n",
       "      <td>2515.000000</td>\n",
       "      <td>2515.000000</td>\n",
       "      <td>2515.000000</td>\n",
       "      <td>2515.000000</td>\n",
       "      <td>2515.000000</td>\n",
       "      <td>2515.000000</td>\n",
       "      <td>2537.000000</td>\n",
       "      <td>2537.000000</td>\n",
       "    </tr>\n",
       "    <tr>\n",
       "      <th>mean</th>\n",
       "      <td>5.387541</td>\n",
       "      <td>0.248491</td>\n",
       "      <td>0.001673</td>\n",
       "      <td>169.348982</td>\n",
       "      <td>203.119205</td>\n",
       "      <td>233.183514</td>\n",
       "      <td>277.992128</td>\n",
       "      <td>465.338903</td>\n",
       "      <td>91.202207</td>\n",
       "      <td>36.146060</td>\n",
       "    </tr>\n",
       "    <tr>\n",
       "      <th>std</th>\n",
       "      <td>0.364370</td>\n",
       "      <td>0.177955</td>\n",
       "      <td>0.000822</td>\n",
       "      <td>110.070509</td>\n",
       "      <td>133.199995</td>\n",
       "      <td>154.286990</td>\n",
       "      <td>180.241388</td>\n",
       "      <td>301.279110</td>\n",
       "      <td>53.786144</td>\n",
       "      <td>22.384717</td>\n",
       "    </tr>\n",
       "    <tr>\n",
       "      <th>min</th>\n",
       "      <td>4.184086</td>\n",
       "      <td>0.004621</td>\n",
       "      <td>0.000019</td>\n",
       "      <td>65.406391</td>\n",
       "      <td>65.406391</td>\n",
       "      <td>65.406391</td>\n",
       "      <td>65.785287</td>\n",
       "      <td>66.135890</td>\n",
       "      <td>40.000000</td>\n",
       "      <td>8.440000</td>\n",
       "    </tr>\n",
       "    <tr>\n",
       "      <th>25%</th>\n",
       "      <td>5.168478</td>\n",
       "      <td>0.141969</td>\n",
       "      <td>0.001142</td>\n",
       "      <td>125.629057</td>\n",
       "      <td>148.005639</td>\n",
       "      <td>166.728822</td>\n",
       "      <td>189.321316</td>\n",
       "      <td>281.321254</td>\n",
       "      <td>55.000000</td>\n",
       "      <td>21.295000</td>\n",
       "    </tr>\n",
       "    <tr>\n",
       "      <th>50%</th>\n",
       "      <td>5.403007</td>\n",
       "      <td>0.199910</td>\n",
       "      <td>0.001624</td>\n",
       "      <td>152.010417</td>\n",
       "      <td>179.214613</td>\n",
       "      <td>203.497284</td>\n",
       "      <td>245.519371</td>\n",
       "      <td>384.595507</td>\n",
       "      <td>74.000000</td>\n",
       "      <td>29.730000</td>\n",
       "    </tr>\n",
       "    <tr>\n",
       "      <th>75%</th>\n",
       "      <td>5.552087</td>\n",
       "      <td>0.292359</td>\n",
       "      <td>0.002110</td>\n",
       "      <td>181.694801</td>\n",
       "      <td>220.000000</td>\n",
       "      <td>248.372169</td>\n",
       "      <td>288.619783</td>\n",
       "      <td>526.251982</td>\n",
       "      <td>109.000000</td>\n",
       "      <td>43.460000</td>\n",
       "    </tr>\n",
       "    <tr>\n",
       "      <th>max</th>\n",
       "      <td>7.634803</td>\n",
       "      <td>1.117592</td>\n",
       "      <td>0.007706</td>\n",
       "      <td>2024.997863</td>\n",
       "      <td>2063.023295</td>\n",
       "      <td>2074.957009</td>\n",
       "      <td>2083.963408</td>\n",
       "      <td>2093.004522</td>\n",
       "      <td>510.000000</td>\n",
       "      <td>171.360000</td>\n",
       "    </tr>\n",
       "  </tbody>\n",
       "</table>\n",
       "</div>"
      ],
      "text/plain": [
       "       log_mean_pitch  log_stdev_pitch  pitch_rate_of_change_log_variance  \\\n",
       "count     2515.000000      2515.000000                        2515.000000   \n",
       "mean         5.387541         0.248491                           0.001673   \n",
       "std          0.364370         0.177955                           0.000822   \n",
       "min          4.184086         0.004621                           0.000019   \n",
       "25%          5.168478         0.141969                           0.001142   \n",
       "50%          5.403007         0.199910                           0.001624   \n",
       "75%          5.552087         0.292359                           0.002110   \n",
       "max          7.634803         1.117592                           0.007706   \n",
       "\n",
       "       pitch_2_percentile  pitch_25_percentile  pitch_50_percentile  \\\n",
       "count         2515.000000          2515.000000          2515.000000   \n",
       "mean           169.348982           203.119205           233.183514   \n",
       "std            110.070509           133.199995           154.286990   \n",
       "min             65.406391            65.406391            65.406391   \n",
       "25%            125.629057           148.005639           166.728822   \n",
       "50%            152.010417           179.214613           203.497284   \n",
       "75%            181.694801           220.000000           248.372169   \n",
       "max           2024.997863          2063.023295          2074.957009   \n",
       "\n",
       "       pitch_75_percentile  pitch_98_percentile   word_count     duration  \n",
       "count          2515.000000          2515.000000  2537.000000  2537.000000  \n",
       "mean            277.992128           465.338903    91.202207    36.146060  \n",
       "std             180.241388           301.279110    53.786144    22.384717  \n",
       "min              65.785287            66.135890    40.000000     8.440000  \n",
       "25%             189.321316           281.321254    55.000000    21.295000  \n",
       "50%             245.519371           384.595507    74.000000    29.730000  \n",
       "75%             288.619783           526.251982   109.000000    43.460000  \n",
       "max            2083.963408          2093.004522   510.000000   171.360000  "
      ]
     },
     "execution_count": 27,
     "metadata": {},
     "output_type": "execute_result"
    }
   ],
   "source": [
    "data[pitch_features].describe()"
   ]
  },
  {
   "cell_type": "code",
   "execution_count": 28,
   "id": "b47063c6",
   "metadata": {
    "scrolled": false
   },
   "outputs": [
    {
     "data": {
      "image/png": "[encoded data removed]",
      "text/plain": [
       "<Figure size 432x288 with 1 Axes>"
      ]
     },
     "metadata": {
      "needs_background": "light"
     },
     "output_type": "display_data"
    },
    {
     "data": {
      "image/png": "[encoded data removed]",
      "text/plain": [
       "<Figure size 432x288 with 1 Axes>"
      ]
     },
     "metadata": {
      "needs_background": "light"
     },
     "output_type": "display_data"
    },
    {
     "data": {
      "image/png": "[encoded data removed]",
      "text/plain": [
       "<Figure size 432x288 with 1 Axes>"
      ]
     },
     "metadata": {
      "needs_background": "light"
     },
     "output_type": "display_data"
    },
    {
     "data": {
      "image/png": "[encoded data removed]",
      "text/plain": [
       "<Figure size 432x288 with 1 Axes>"
      ]
     },
     "metadata": {
      "needs_background": "light"
     },
     "output_type": "display_data"
    },
    {
     "data": {
      "image/png": "[encoded data removed]",
      "text/plain": [
       "<Figure size 432x288 with 1 Axes>"
      ]
     },
     "metadata": {
      "needs_background": "light"
     },
     "output_type": "display_data"
    },
    {
     "data": {
      "image/png": "[encoded data removed]",
      "text/plain": [
       "<Figure size 432x288 with 1 Axes>"
      ]
     },
     "metadata": {
      "needs_background": "light"
     },
     "output_type": "display_data"
    },
    {
     "data": {
      "image/png": "[encoded data removed]",
      "text/plain": [
       "<Figure size 432x288 with 1 Axes>"
      ]
     },
     "metadata": {
      "needs_background": "light"
     },
     "output_type": "display_data"
    },
    {
     "data": {
      "image/png": "[encoded data removed]",
      "text/plain": [
       "<Figure size 432x288 with 1 Axes>"
      ]
     },
     "metadata": {
      "needs_background": "light"
     },
     "output_type": "display_data"
    },
    {
     "data": {
      "image/png": "[encoded data removed]",
      "text/plain": [
       "<Figure size 432x288 with 1 Axes>"
      ]
     },
     "metadata": {
      "needs_background": "light"
     },
     "output_type": "display_data"
    },
    {
     "data": {
      "image/png": "[encoded data removed]",
      "text/plain": [
       "<Figure size 432x288 with 1 Axes>"
      ]
     },
     "metadata": {
      "needs_background": "light"
     },
     "output_type": "display_data"
    }
   ],
   "source": [
    "for feature in pitch_features:\n",
    "    plt.hist(data[feature], bins = 50)\n",
    "    plt.title(feature)\n",
    "    plt.show()"
   ]
  },
  {
   "cell_type": "code",
   "execution_count": null,
   "id": "e6d67d28",
   "metadata": {},
   "outputs": [],
   "source": []
  }
 ],
 "metadata": {
  "kernelspec": {
   "display_name": "Python 3 (ipykernel)",
   "language": "python",
   "name": "python3"
  },
  "language_info": {
   "codemirror_mode": {
    "name": "ipython",
    "version": 3
   },
   "file_extension": ".py",
   "mimetype": "text/x-python",
   "name": "python",
   "nbconvert_exporter": "python",
   "pygments_lexer": "ipython3",
   "version": "3.9.7"
  }
 },
 "nbformat": 4,
 "nbformat_minor": 5
}
