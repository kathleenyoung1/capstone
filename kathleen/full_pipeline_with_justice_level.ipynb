{
 "cells": [
  {
   "cell_type": "markdown",
   "id": "e1063f21",
   "metadata": {},
   "source": [
    "# Process\n",
    "1. Set arguments\n",
    "2. Read data\n",
    "3. Filtering\n",
    "4. Feature Extraction\n",
    "5. BERT"
   ]
  },
  {
   "cell_type": "code",
   "execution_count": 1,
   "id": "0ed64481",
   "metadata": {},
   "outputs": [],
   "source": [
    "import librosa\n",
    "import numpy as np\n",
    "import pandas as pd\n",
    "import os\n",
    "from pathlib import Path"
   ]
  },
  {
   "cell_type": "markdown",
   "id": "9cfd0c5a",
   "metadata": {},
   "source": [
    "## Arguments"
   ]
  },
  {
   "cell_type": "code",
   "execution_count": 2,
   "id": "a217f015",
   "metadata": {},
   "outputs": [],
   "source": [
    "min_words = 40"
   ]
  },
  {
   "cell_type": "markdown",
   "id": "7524cbe0",
   "metadata": {},
   "source": [
    "## Data"
   ]
  },
  {
   "cell_type": "code",
   "execution_count": 24,
   "id": "be59c10a",
   "metadata": {},
   "outputs": [],
   "source": [
    "wavs = [path for path in Path('./wavs/').rglob('*.wav')]\n",
    "jsons = [path for path in Path('./wavs/').rglob('*.json')]"
   ]
  },
  {
   "cell_type": "code",
   "execution_count": 25,
   "id": "3dd16ba7",
   "metadata": {},
   "outputs": [
    {
     "data": {
      "text/plain": [
       "(WindowsPath('wavs/142-orig.wav'), WindowsPath('wavs/142-orig.json'))"
      ]
     },
     "execution_count": 25,
     "metadata": {},
     "output_type": "execute_result"
    }
   ],
   "source": [
    "wavs[0], jsons[0]"
   ]
  },
  {
   "cell_type": "code",
   "execution_count": 26,
   "id": "a250e798",
   "metadata": {},
   "outputs": [
    {
     "data": {
      "text/plain": [
       "(56, 57)"
      ]
     },
     "execution_count": 26,
     "metadata": {},
     "output_type": "execute_result"
    }
   ],
   "source": [
    "len(wavs), len(jsons)"
   ]
  },
  {
   "cell_type": "code",
   "execution_count": 27,
   "id": "69f00876",
   "metadata": {},
   "outputs": [],
   "source": [
    "wav_file, wav_sr = librosa.load(wavs[0], sr=librosa.core.get_samplerate(wavs[0]))\n",
    "\n",
    "df = pd.read_json(jsons[0])\n",
    "df['file'] = wavs[0].name\n",
    "df['line'] = df.index\n",
    "df['duration'] = df['end'] - df['start']\n",
    "df['start_idx'] = np.floor(df['start']*wav_sr).astype(int)\n",
    "df['end_idx'] = np.ceil(df['end']*wav_sr).astype(int)\n",
    "df['word_count'] = df['text'].apply(lambda x: len(x.split(\" \")))"
   ]
  },
  {
   "cell_type": "markdown",
   "id": "0640476d",
   "metadata": {},
   "source": [
    "## Filtering\n",
    "- Remove segments that do not belong to judges\n",
    "- Remove segments less than 40 words"
   ]
  },
  {
   "cell_type": "code",
   "execution_count": 28,
   "id": "ab81b7ec",
   "metadata": {},
   "outputs": [
    {
     "name": "stdout",
     "output_type": "stream",
     "text": [
      "150 transcript lines\n",
      "37 viable segments\n"
     ]
    }
   ],
   "source": [
    "data = df.loc[(df['word_count'] >= 40) & (df['speaker_role'] == 'scotus_justice')].copy().reset_index(drop=True)\n",
    "print(f'{df.shape[0]} transcript lines')\n",
    "print(f\"{data.shape[0]} viable segments\")"
   ]
  },
  {
   "cell_type": "markdown",
   "id": "85a0b9c6",
   "metadata": {},
   "source": [
    "## Score (BERT) Preparation"
   ]
  },
  {
   "cell_type": "code",
   "execution_count": 11,
   "id": "a47e5897",
   "metadata": {},
   "outputs": [
    {
     "name": "stdout",
     "output_type": "stream",
     "text": [
      "0\n",
      "10\n",
      "20\n",
      "30\n",
      "40\n",
      "50\n",
      "\n",
      " Record Info:\n",
      "(2545, 6)\n",
      "Wall time: 486 ms\n"
     ]
    }
   ],
   "source": [
    "%%time\n",
    "all_data = []\n",
    "for i,w in enumerate(wavs):\n",
    "    if i % 10 == 0:\n",
    "        print(i)\n",
    "    df = pd.read_json(os.path.join(w.parent,w.name.replace(\".wav\",\".json\")))\n",
    "    df['file'] = w.name\n",
    "    df['line'] = df.index\n",
    "    df['word_count'] = df['text'].apply(lambda x: len(x.split(\" \")))\n",
    "    data = df.loc[(df['word_count'] >= 40) & (df['speaker_role'] == 'scotus_justice')].copy().reset_index(drop=True)\n",
    "    data = data[['file','line','speaker','start','end','text']]\n",
    "\n",
    "    all_data.append(data)\n",
    "    \n",
    "bert_metadata = pd.concat(all_data)\n",
    "print(\"\\n Record Info:\")\n",
    "print(bert_metadata.shape)"
   ]
  },
  {
   "cell_type": "code",
   "execution_count": 12,
   "id": "715a0a7b",
   "metadata": {},
   "outputs": [
    {
     "data": {
      "text/html": [
       "<div>\n",
       "<style scoped>\n",
       "    .dataframe tbody tr th:only-of-type {\n",
       "        vertical-align: middle;\n",
       "    }\n",
       "\n",
       "    .dataframe tbody tr th {\n",
       "        vertical-align: top;\n",
       "    }\n",
       "\n",
       "    .dataframe thead th {\n",
       "        text-align: right;\n",
       "    }\n",
       "</style>\n",
       "<table border=\"1\" class=\"dataframe\">\n",
       "  <thead>\n",
       "    <tr style=\"text-align: right;\">\n",
       "      <th></th>\n",
       "      <th>file</th>\n",
       "      <th>line</th>\n",
       "      <th>speaker</th>\n",
       "      <th>start</th>\n",
       "      <th>end</th>\n",
       "      <th>text</th>\n",
       "    </tr>\n",
       "  </thead>\n",
       "  <tbody>\n",
       "    <tr>\n",
       "      <th>32</th>\n",
       "      <td>19-508.wav</td>\n",
       "      <td>135</td>\n",
       "      <td>Amy_Coney_Barrett</td>\n",
       "      <td>3536.345</td>\n",
       "      <td>3565.09</td>\n",
       "      <td>Counsel, the -- the damages award here or the ...</td>\n",
       "    </tr>\n",
       "    <tr>\n",
       "      <th>61</th>\n",
       "      <td>19-968.wav</td>\n",
       "      <td>300</td>\n",
       "      <td>Amy_Coney_Barrett</td>\n",
       "      <td>5183.560</td>\n",
       "      <td>5237.20</td>\n",
       "      <td>So what is the effect of your argument on the ...</td>\n",
       "    </tr>\n",
       "    <tr>\n",
       "      <th>18</th>\n",
       "      <td>19-422.wav</td>\n",
       "      <td>77</td>\n",
       "      <td>Neil_Gorsuch</td>\n",
       "      <td>1436.000</td>\n",
       "      <td>1470.24</td>\n",
       "      <td>-- I -- I understand that point, but Congress ...</td>\n",
       "    </tr>\n",
       "    <tr>\n",
       "      <th>48</th>\n",
       "      <td>20-107.wav</td>\n",
       "      <td>244</td>\n",
       "      <td>Amy_Coney_Barrett</td>\n",
       "      <td>3867.260</td>\n",
       "      <td>3897.38</td>\n",
       "      <td>But, General, my -- Penn Central is deliberate...</td>\n",
       "    </tr>\n",
       "  </tbody>\n",
       "</table>\n",
       "</div>"
      ],
      "text/plain": [
       "          file  line            speaker     start      end  \\\n",
       "32  19-508.wav   135  Amy_Coney_Barrett  3536.345  3565.09   \n",
       "61  19-968.wav   300  Amy_Coney_Barrett  5183.560  5237.20   \n",
       "18  19-422.wav    77       Neil_Gorsuch  1436.000  1470.24   \n",
       "48  20-107.wav   244  Amy_Coney_Barrett  3867.260  3897.38   \n",
       "\n",
       "                                                 text  \n",
       "32  Counsel, the -- the damages award here or the ...  \n",
       "61  So what is the effect of your argument on the ...  \n",
       "18  -- I -- I understand that point, but Congress ...  \n",
       "48  But, General, my -- Penn Central is deliberate...  "
      ]
     },
     "execution_count": 12,
     "metadata": {},
     "output_type": "execute_result"
    }
   ],
   "source": [
    "bert_metadata.to_json('bert_metadata.json', orient='records')\n",
    "bert_metadata.sample(n=4)"
   ]
  },
  {
   "cell_type": "markdown",
   "id": "16d57a0d",
   "metadata": {},
   "source": [
    "## Features\n",
    "- Pitch\n",
    "- Onset"
   ]
  },
  {
   "cell_type": "markdown",
   "id": "4209075d",
   "metadata": {},
   "source": [
    "### Pitch"
   ]
  },
  {
   "cell_type": "code",
   "execution_count": 42,
   "id": "65e86776",
   "metadata": {},
   "outputs": [],
   "source": [
    "def get_features(audio, sr, row):\n",
    "    start = row['start_idx']\n",
    "    end = row['end_idx']   \n",
    "    clip = audio[start:end]\n",
    "    \n",
    "    try:\n",
    "        #f0, _, _ = librosa.pyin(clip, fmin=librosa.note_to_hz('C2'), fmax=librosa.note_to_hz('C7'))\n",
    "        f0, _, _ = librosa.pyin(clip, fmin=librosa.note_to_hz('C2'), fmax=librosa.note_to_hz('C5'))\n",
    "\n",
    "        f0_log = np.log2(f0)\n",
    "        row['pitch_log_diff_variance'] = np.nanvar(np.diff(f0_log))\n",
    "        row['pitch_log_mean'] = np.nanmean(f0_log)\n",
    "        row['pitch_log_stdev'] = np.nanstd(f0_log)\n",
    "        row['pitch_2pct'], row['pitch_25pct'], row['pitch_50pct'], row['pitch_75pct'], row['pitch_98pct'] = np.nanquantile(f0_log, [.02, .25, .5, .75, .98])\n",
    "    except Exception as e:\n",
    "        print(f\"Pitch: {row['file']} {row['line']}, {e}\")\n",
    "        row['pitch_log_diff_variance'] = np.nan\n",
    "        row['pitch_log_mean'] = np.nan\n",
    "        row['pitch_log_stdev'] = np.nan\n",
    "        row['pitch_2pct'], row['pitch_25pct'], row['pitch_50pct'], row['pitch_75pct'], row['pitch_98pct'] = np.nan, np.nan, np.nan, np.nan, np.nan\n",
    "        \n",
    "    try:\n",
    "        o_env = librosa.onset.onset_strength(clip, sr=sr, max_size=5)\n",
    "        # times = librosa.times_like(o_env, sr=sr)\n",
    "        onset_times = librosa.onset.onset_detect(onset_envelope=o_env, sr=sr, units=\"time\")\n",
    "        # onset_dt = librosa.feature.delta(o_env)\n",
    "\n",
    "        onset_count = onset_times.shape[0]\n",
    "        onset_rate = onset_count/row['duration']\n",
    "        row['onset_count'] = onset_count\n",
    "        row['onset_rate'] = onset_rate\n",
    "\n",
    "        onset_histogram = np.histogram(o_env, bins=50, density=True)\n",
    "        onset_data = onset_histogram[0]\n",
    "        entropy = -(onset_data*np.log1p(np.abs(onset_data))).sum()\n",
    "        row['onset_power_entropy'] = entropy\n",
    "\n",
    "        onset_times_diff = np.diff(onset_times)\n",
    "        onset_time_diff_mean = np.mean(onset_times_diff)\n",
    "        onset_time_diff_var = np.var(onset_times_diff)\n",
    "        row['onset_time_diff_mean'] = onset_time_diff_mean\n",
    "        row['onset_time_diff_var'] = onset_time_diff_var\n",
    "\n",
    "        \n",
    "        onset_time_histogram = np.histogram(onset_times_diff, bins=50, density=True)\n",
    "        onset_time_data = onset_time_histogram[0]\n",
    "        entropy = -(onset_time_data*np.log1p(np.abs(onset_time_data))).sum()\n",
    "        row['onset_time_entropy'] = entropy\n",
    "\n",
    "\n",
    "\n",
    "    except Exception as e:\n",
    "        print(f\"Onset: {row['file']} {row['line']}, {e}\")\n",
    "        row['onset_count'] = np.nan\n",
    "        row['onset_rate'] = np.nan\n",
    "        \n",
    "        row['onset_time_diff_mean'] = np.nan\n",
    "        row['onset_time_diff_var'] = np.nan\n",
    "\n",
    "        row['onset_power_entropy'] = np.nan\n",
    "        row['onset_time_entropy'] = np.nan\n",
    "\n",
    "    return row"
   ]
  },
  {
   "cell_type": "code",
   "execution_count": 43,
   "id": "b1586cf0",
   "metadata": {},
   "outputs": [
    {
     "data": {
      "text/plain": [
       "{'start': 227.24,\n",
       " 'end': 242.92,\n",
       " 'speaker': 'John_G_Roberts_Jr',\n",
       " 'speaker_role': 'scotus_justice',\n",
       " 'text': 'Well, the -- the Special Master concluded that Georgia -- that Georgia would be required to allow huge amounts of water to flow into the bay to really allow recovery of the oyster fishery and that that would not be -- be equitable. What is your response to that?',\n",
       " 'file': '142-orig.wav',\n",
       " 'line': 4,\n",
       " 'duration': 15.679999999999978,\n",
       " 'start_idx': 3635840,\n",
       " 'end_idx': 3886720,\n",
       " 'word_count': 49,\n",
       " 'word_rate': 3.1250000000000044,\n",
       " 'onset_count': 62,\n",
       " 'onset_rate': 3.954081632653067,\n",
       " 'onset_power_entropy': -2.296225170870145,\n",
       " 'onset_time_diff_mean': 0.24760655737704917,\n",
       " 'onset_time_diff_var': 0.04646279602257457,\n",
       " 'onset_time_entropy': -69.41020848678615}"
      ]
     },
     "execution_count": 43,
     "metadata": {},
     "output_type": "execute_result"
    }
   ],
   "source": [
    "row = dict(data.iloc[1])\n",
    "get_features(wav_file, wav_sr, row)"
   ]
  },
  {
   "cell_type": "code",
   "execution_count": 45,
   "id": "28b6b083",
   "metadata": {},
   "outputs": [
    {
     "name": "stdout",
     "output_type": "stream",
     "text": [
      "0\n"
     ]
    },
    {
     "name": "stderr",
     "output_type": "stream",
     "text": [
      "C:\\Users\\yagne\\anaconda3\\envs\\librosa\\lib\\site-packages\\librosa\\core\\spectrum.py:222: UserWarning: n_fft=2048 is too small for input signal of length=0\n",
      "  warnings.warn(\n"
     ]
    },
    {
     "name": "stdout",
     "output_type": "stream",
     "text": [
      "Onset: 19-123.wav 105, can't extend empty axis 0 using modes other than 'constant' or 'empty'\n",
      "10\n",
      "20\n",
      "30\n",
      "40\n",
      "Onset: 20-18.wav 124, can't extend empty axis 0 using modes other than 'constant' or 'empty'\n",
      "Onset: 20-18.wav 126, can't extend empty axis 0 using modes other than 'constant' or 'empty'\n",
      "Onset: 20-18.wav 133, can't extend empty axis 0 using modes other than 'constant' or 'empty'\n",
      "Onset: 20-18.wav 135, can't extend empty axis 0 using modes other than 'constant' or 'empty'\n",
      "Onset: 20-18.wav 137, can't extend empty axis 0 using modes other than 'constant' or 'empty'\n",
      "Onset: 20-18.wav 141, can't extend empty axis 0 using modes other than 'constant' or 'empty'\n",
      "Onset: 20-18.wav 145, can't extend empty axis 0 using modes other than 'constant' or 'empty'\n",
      "Onset: 20-18.wav 149, can't extend empty axis 0 using modes other than 'constant' or 'empty'\n",
      "Onset: 20-18.wav 151, can't extend empty axis 0 using modes other than 'constant' or 'empty'\n",
      "Onset: 20-18.wav 161, can't extend empty axis 0 using modes other than 'constant' or 'empty'\n",
      "Onset: 20-18.wav 163, can't extend empty axis 0 using modes other than 'constant' or 'empty'\n",
      "Onset: 20-18.wav 167, can't extend empty axis 0 using modes other than 'constant' or 'empty'\n",
      "Onset: 20-18.wav 173, can't extend empty axis 0 using modes other than 'constant' or 'empty'\n",
      "Onset: 20-18.wav 179, can't extend empty axis 0 using modes other than 'constant' or 'empty'\n",
      "Onset: 20-18.wav 181, can't extend empty axis 0 using modes other than 'constant' or 'empty'\n",
      "Onset: 20-18.wav 184, can't extend empty axis 0 using modes other than 'constant' or 'empty'\n",
      "Onset: 20-18.wav 186, can't extend empty axis 0 using modes other than 'constant' or 'empty'\n",
      "Onset: 20-18.wav 194, can't extend empty axis 0 using modes other than 'constant' or 'empty'\n",
      "Onset: 20-18.wav 196, can't extend empty axis 0 using modes other than 'constant' or 'empty'\n",
      "Onset: 20-18.wav 208, can't extend empty axis 0 using modes other than 'constant' or 'empty'\n",
      "Onset: 20-18.wav 210, can't extend empty axis 0 using modes other than 'constant' or 'empty'\n",
      "Onset: 20-18.wav 212, can't extend empty axis 0 using modes other than 'constant' or 'empty'\n",
      "Onset: 20-18.wav 218, can't extend empty axis 0 using modes other than 'constant' or 'empty'\n",
      "Onset: 20-18.wav 222, can't extend empty axis 0 using modes other than 'constant' or 'empty'\n",
      "Onset: 20-18.wav 224, can't extend empty axis 0 using modes other than 'constant' or 'empty'\n",
      "Onset: 20-18.wav 226, can't extend empty axis 0 using modes other than 'constant' or 'empty'\n",
      "Onset: 20-18.wav 228, can't extend empty axis 0 using modes other than 'constant' or 'empty'\n",
      "Onset: 20-18.wav 232, can't extend empty axis 0 using modes other than 'constant' or 'empty'\n",
      "Onset: 20-18.wav 234, can't extend empty axis 0 using modes other than 'constant' or 'empty'\n",
      "Onset: 20-18.wav 236, can't extend empty axis 0 using modes other than 'constant' or 'empty'\n",
      "Onset: 20-18.wav 238, can't extend empty axis 0 using modes other than 'constant' or 'empty'\n",
      "Onset: 20-18.wav 246, can't extend empty axis 0 using modes other than 'constant' or 'empty'\n",
      "Onset: 20-18.wav 248, can't extend empty axis 0 using modes other than 'constant' or 'empty'\n",
      "Onset: 20-18.wav 252, can't extend empty axis 0 using modes other than 'constant' or 'empty'\n",
      "Onset: 20-18.wav 258, can't extend empty axis 0 using modes other than 'constant' or 'empty'\n",
      "Onset: 20-18.wav 260, can't extend empty axis 0 using modes other than 'constant' or 'empty'\n",
      "Onset: 20-18.wav 267, can't extend empty axis 0 using modes other than 'constant' or 'empty'\n",
      "Onset: 20-18.wav 269, can't extend empty axis 0 using modes other than 'constant' or 'empty'\n",
      "Onset: 20-18.wav 282, can't extend empty axis 0 using modes other than 'constant' or 'empty'\n",
      "Onset: 20-18.wav 286, can't extend empty axis 0 using modes other than 'constant' or 'empty'\n",
      "Onset: 20-18.wav 288, can't extend empty axis 0 using modes other than 'constant' or 'empty'\n",
      "Onset: 20-18.wav 292, can't extend empty axis 0 using modes other than 'constant' or 'empty'\n",
      "Onset: 20-18.wav 294, can't extend empty axis 0 using modes other than 'constant' or 'empty'\n",
      "Onset: 20-18.wav 297, can't extend empty axis 0 using modes other than 'constant' or 'empty'\n",
      "Onset: 20-18.wav 305, can't extend empty axis 0 using modes other than 'constant' or 'empty'\n",
      "Onset: 20-18.wav 309, can't extend empty axis 0 using modes other than 'constant' or 'empty'\n",
      "Onset: 20-18.wav 313, can't extend empty axis 0 using modes other than 'constant' or 'empty'\n",
      "Onset: 20-18.wav 315, can't extend empty axis 0 using modes other than 'constant' or 'empty'\n",
      "Onset: 20-18.wav 321, can't extend empty axis 0 using modes other than 'constant' or 'empty'\n",
      "Onset: 20-18.wav 323, can't extend empty axis 0 using modes other than 'constant' or 'empty'\n",
      "Onset: 20-18.wav 330, can't extend empty axis 0 using modes other than 'constant' or 'empty'\n",
      "50\n",
      "\n",
      " Record Info:\n",
      "(2545, 19)\n",
      "Wall time: 1min 45s\n"
     ]
    }
   ],
   "source": [
    "%%time\n",
    "all_data = []\n",
    "for i,w in enumerate(wavs):\n",
    "    if i % 10 == 0:\n",
    "        print(i)\n",
    "    wav_file, wav_sr = librosa.load(w, sr=librosa.core.get_samplerate(w), )\n",
    "    df = pd.read_json(os.path.join(w.parent,w.name.replace(\".wav\",\".json\")))\n",
    "    df['file'] = w.name\n",
    "    df['line'] = df.index\n",
    "    df['duration'] = df['end'] - df['start']\n",
    "    df['start_idx'] = np.floor(df['start']*wav_sr).astype(int)\n",
    "    df['end_idx'] = np.ceil(df['end']*wav_sr).astype(int)\n",
    "    df['word_count'] = df['text'].apply(lambda x: len(x.split(\" \")))\n",
    "    df['word_rate'] = df['word_count']/df['duration']\n",
    "    \n",
    "    data = df.loc[(df['word_count'] >= 40) & (df['speaker_role'] == 'scotus_justice')].copy().reset_index(drop=True)\n",
    "    data = data.apply(lambda x: get_features(wav_file, wav_sr, x), axis=1)\n",
    "    all_data.append(data)\n",
    "all_data_df = pd.concat(all_data)\n",
    "print(\"\\n Record Info:\")\n",
    "print(all_data_df.shape)"
   ]
  },
  {
   "cell_type": "code",
   "execution_count": 46,
   "id": "b82ecab5",
   "metadata": {
    "scrolled": false
   },
   "outputs": [],
   "source": [
    "all_data_df.to_json('all_data.json', orient=\"records\")"
   ]
  },
  {
   "cell_type": "markdown",
   "id": "965b8a76",
   "metadata": {},
   "source": [
    "# Join with BERT"
   ]
  },
  {
   "cell_type": "code",
   "execution_count": null,
   "id": "3c72e82b",
   "metadata": {},
   "outputs": [],
   "source": [
    "bert_info = pd.read_csv(\"/path/to/bert\")\n",
    "full_data = all_data_df.merge(bert_info[['file','line','BERT-GS_Scores']], on=['file','line'])"
   ]
  },
  {
   "cell_type": "code",
   "execution_count": null,
   "id": "fad96195",
   "metadata": {},
   "outputs": [],
   "source": [
    "full_data.to_csv('full_data.csv', index=False)"
   ]
  },
  {
   "cell_type": "markdown",
   "id": "6abbe426",
   "metadata": {},
   "source": [
    "# Get the speaker-level info"
   ]
  },
  {
   "cell_type": "code",
   "execution_count": 67,
   "id": "0b99b735",
   "metadata": {},
   "outputs": [
    {
     "name": "stderr",
     "output_type": "stream",
     "text": [
      "<ipython-input-67-3c80e5f3a1ec>:16: FutureWarning: Index.ravel returning ndarray is deprecated; in a future version this will return a view on self.\n",
      "  justice_level.columns = [\"_\".join(x) for x in justice_level.columns.ravel()]\n"
     ]
    }
   ],
   "source": [
    "import pandas as pd\n",
    "\n",
    "# import the full data\n",
    "data = pd.read_csv('full_data.csv')\n",
    "\n",
    "# features\n",
    "features = ['duration', 'onset_count', 'onset_rate', 'onset_time_diff_mean', 'onset_time_diff_var',\n",
    "       'pitch_25pct', 'pitch_2pct', 'pitch_50pct', 'pitch_75pct',\n",
    "       'pitch_98pct', 'pitch_log_diff_variance', 'pitch_log_mean',\n",
    "       'pitch_log_stdev', 'speaker', 'word_count', 'word_rate', 'BERT-GS_Scores']\n",
    "\n",
    "# aggregate by speaker\n",
    "justice_level = data[features].groupby(['speaker']).agg(['mean', 'std'])\n",
    "\n",
    "# fix the multi-index from aggregating\n",
    "justice_level.columns = [\"_\".join(x) for x in justice_level.columns.ravel()]\n",
    "full_data_and_speaker_level = data.merge(justice_level, how = 'left', on = 'speaker')\n",
    "\n",
    "# out csv\n",
    "full_data_and_speaker_level.to_csv(\"full_data_and_speaker_level.csv\")"
   ]
  },
  {
   "cell_type": "code",
   "execution_count": null,
   "id": "7ba7f59b",
   "metadata": {},
   "outputs": [],
   "source": []
  }
 ],
 "metadata": {
  "interpreter": {
   "hash": "a7f48ee1577d6b075b67eb0000de962af8c8b7c8c83d42608983f43f07c93584"
  },
  "kernelspec": {
   "display_name": "Python 3 (ipykernel)",
   "language": "python",
   "name": "python3"
  },
  "language_info": {
   "codemirror_mode": {
    "name": "ipython",
    "version": 3
   },
   "file_extension": ".py",
   "mimetype": "text/x-python",
   "name": "python",
   "nbconvert_exporter": "python",
   "pygments_lexer": "ipython3",
   "version": "3.9.7"
  }
 },
 "nbformat": 4,
 "nbformat_minor": 5
}
