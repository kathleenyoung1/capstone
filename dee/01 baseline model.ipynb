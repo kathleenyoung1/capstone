{
 "cells": [
  {
   "cell_type": "code",
   "execution_count": 1,
   "id": "incoming-single",
   "metadata": {},
   "outputs": [],
   "source": [
    "import numpy as np\n",
    "import pandas as pd\n",
    "from sklearn.linear_model import LogisticRegression\n",
    "from sklearn.model_selection import train_test_split\n",
    "from sklearn import preprocessing\n",
    "import matplotlib.pyplot as plt \n",
    "import seaborn as sns\n",
    "from imblearn.over_sampling import SMOTE"
   ]
  },
  {
   "cell_type": "code",
   "execution_count": 11,
   "id": "atomic-clearance",
   "metadata": {},
   "outputs": [],
   "source": [
    "data = pd.read_csv('../kathleen/features.csv',index_col=0)"
   ]
  },
  {
   "cell_type": "code",
   "execution_count": 13,
   "id": "sticky-estonia",
   "metadata": {},
   "outputs": [],
   "source": [
    "pd.set_option('max_columns', None)\n",
    "# pd.reset_option(“max_columns”)"
   ]
  },
  {
   "cell_type": "code",
   "execution_count": 60,
   "id": "worst-meditation",
   "metadata": {},
   "outputs": [],
   "source": [
    "# data"
   ]
  },
  {
   "cell_type": "code",
   "execution_count": 17,
   "id": "under-medium",
   "metadata": {},
   "outputs": [
    {
     "data": {
      "text/plain": [
       "count    2100.000000\n",
       "mean       -0.171621\n",
       "std         0.682459\n",
       "min        -1.914418\n",
       "25%        -0.659403\n",
       "50%        -0.153473\n",
       "75%         0.326316\n",
       "max         1.581189\n",
       "Name: bert-gs_scores, dtype: float64"
      ]
     },
     "execution_count": 17,
     "metadata": {},
     "output_type": "execute_result"
    }
   ],
   "source": [
    "data['bert-gs_scores'].describe()"
   ]
  },
  {
   "cell_type": "code",
   "execution_count": 18,
   "id": "sonic-huntington",
   "metadata": {},
   "outputs": [],
   "source": [
    "data['Grandstanding_ind'] = np.where(data['bert-gs_scores']>=1,1,0)"
   ]
  },
  {
   "cell_type": "code",
   "execution_count": 58,
   "id": "beautiful-there",
   "metadata": {},
   "outputs": [],
   "source": [
    "# data"
   ]
  },
  {
   "cell_type": "code",
   "execution_count": 22,
   "id": "faced-belly",
   "metadata": {},
   "outputs": [
    {
     "data": {
      "text/html": [
       "<div>\n",
       "<style scoped>\n",
       "    .dataframe tbody tr th:only-of-type {\n",
       "        vertical-align: middle;\n",
       "    }\n",
       "\n",
       "    .dataframe tbody tr th {\n",
       "        vertical-align: top;\n",
       "    }\n",
       "\n",
       "    .dataframe thead th {\n",
       "        text-align: right;\n",
       "    }\n",
       "</style>\n",
       "<table border=\"1\" class=\"dataframe\">\n",
       "  <thead>\n",
       "    <tr style=\"text-align: right;\">\n",
       "      <th></th>\n",
       "      <th>word_count</th>\n",
       "      <th>start</th>\n",
       "      <th>end</th>\n",
       "      <th>duration</th>\n",
       "      <th>log_mean_pitch</th>\n",
       "      <th>log_stdev_pitch</th>\n",
       "      <th>rate_of_change_log_variance</th>\n",
       "      <th>onset_count</th>\n",
       "      <th>onset_rate</th>\n",
       "      <th>onset_time_diff_mean</th>\n",
       "      <th>onset_time_diff_var</th>\n",
       "      <th>onset_strength_mean</th>\n",
       "      <th>onset_strength_seg_var</th>\n",
       "      <th>onset_strength_seg_std</th>\n",
       "      <th>onset_delta_abs_mean</th>\n",
       "      <th>onset_delta_var</th>\n",
       "      <th>bert-gs_scores</th>\n",
       "      <th>Grandstanding_ind</th>\n",
       "    </tr>\n",
       "  </thead>\n",
       "  <tbody>\n",
       "    <tr>\n",
       "      <th>count</th>\n",
       "      <td>2100.000000</td>\n",
       "      <td>2100.000000</td>\n",
       "      <td>2100.000000</td>\n",
       "      <td>2100.000000</td>\n",
       "      <td>2083.000000</td>\n",
       "      <td>2083.000000</td>\n",
       "      <td>2083.000000</td>\n",
       "      <td>2100.000000</td>\n",
       "      <td>2100.000000</td>\n",
       "      <td>2100.000000</td>\n",
       "      <td>2100.000000</td>\n",
       "      <td>2100.000000</td>\n",
       "      <td>2100.000000</td>\n",
       "      <td>2100.000000</td>\n",
       "      <td>2100.000000</td>\n",
       "      <td>2100.000000</td>\n",
       "      <td>2100.000000</td>\n",
       "      <td>2100.000000</td>\n",
       "    </tr>\n",
       "    <tr>\n",
       "      <th>mean</th>\n",
       "      <td>89.270000</td>\n",
       "      <td>2435.788133</td>\n",
       "      <td>2471.167952</td>\n",
       "      <td>35.379819</td>\n",
       "      <td>5.392156</td>\n",
       "      <td>0.252176</td>\n",
       "      <td>0.001675</td>\n",
       "      <td>103.370476</td>\n",
       "      <td>3.072755</td>\n",
       "      <td>0.329917</td>\n",
       "      <td>0.098468</td>\n",
       "      <td>0.782963</td>\n",
       "      <td>2.333696</td>\n",
       "      <td>1.484643</td>\n",
       "      <td>0.143437</td>\n",
       "      <td>0.063113</td>\n",
       "      <td>-0.171621</td>\n",
       "      <td>0.036190</td>\n",
       "    </tr>\n",
       "    <tr>\n",
       "      <th>std</th>\n",
       "      <td>51.231736</td>\n",
       "      <td>1511.991382</td>\n",
       "      <td>1512.338166</td>\n",
       "      <td>21.174534</td>\n",
       "      <td>0.370102</td>\n",
       "      <td>0.183147</td>\n",
       "      <td>0.000830</td>\n",
       "      <td>64.303161</td>\n",
       "      <td>0.996652</td>\n",
       "      <td>0.108919</td>\n",
       "      <td>0.071000</td>\n",
       "      <td>0.172111</td>\n",
       "      <td>0.997000</td>\n",
       "      <td>0.359991</td>\n",
       "      <td>0.033660</td>\n",
       "      <td>0.027439</td>\n",
       "      <td>0.682459</td>\n",
       "      <td>0.186808</td>\n",
       "    </tr>\n",
       "    <tr>\n",
       "      <th>min</th>\n",
       "      <td>40.000000</td>\n",
       "      <td>117.960000</td>\n",
       "      <td>141.440000</td>\n",
       "      <td>8.440000</td>\n",
       "      <td>4.184086</td>\n",
       "      <td>0.004621</td>\n",
       "      <td>0.000019</td>\n",
       "      <td>0.000000</td>\n",
       "      <td>0.000000</td>\n",
       "      <td>0.000000</td>\n",
       "      <td>0.000000</td>\n",
       "      <td>0.000000</td>\n",
       "      <td>0.000000</td>\n",
       "      <td>0.000000</td>\n",
       "      <td>0.000000</td>\n",
       "      <td>0.000000</td>\n",
       "      <td>-1.914418</td>\n",
       "      <td>0.000000</td>\n",
       "    </tr>\n",
       "    <tr>\n",
       "      <th>25%</th>\n",
       "      <td>55.000000</td>\n",
       "      <td>1156.340000</td>\n",
       "      <td>1187.670000</td>\n",
       "      <td>21.336250</td>\n",
       "      <td>5.171288</td>\n",
       "      <td>0.143366</td>\n",
       "      <td>0.001147</td>\n",
       "      <td>64.000000</td>\n",
       "      <td>2.451407</td>\n",
       "      <td>0.263837</td>\n",
       "      <td>0.052760</td>\n",
       "      <td>0.687863</td>\n",
       "      <td>1.690566</td>\n",
       "      <td>1.300217</td>\n",
       "      <td>0.126752</td>\n",
       "      <td>0.044927</td>\n",
       "      <td>-0.659403</td>\n",
       "      <td>0.000000</td>\n",
       "    </tr>\n",
       "    <tr>\n",
       "      <th>50%</th>\n",
       "      <td>73.000000</td>\n",
       "      <td>2305.107500</td>\n",
       "      <td>2345.472500</td>\n",
       "      <td>29.155000</td>\n",
       "      <td>5.403509</td>\n",
       "      <td>0.200708</td>\n",
       "      <td>0.001612</td>\n",
       "      <td>88.000000</td>\n",
       "      <td>3.004978</td>\n",
       "      <td>0.320000</td>\n",
       "      <td>0.080771</td>\n",
       "      <td>0.786383</td>\n",
       "      <td>2.144242</td>\n",
       "      <td>1.464323</td>\n",
       "      <td>0.142786</td>\n",
       "      <td>0.058742</td>\n",
       "      <td>-0.153473</td>\n",
       "      <td>0.000000</td>\n",
       "    </tr>\n",
       "    <tr>\n",
       "      <th>75%</th>\n",
       "      <td>107.000000</td>\n",
       "      <td>3508.350000</td>\n",
       "      <td>3543.247500</td>\n",
       "      <td>42.685000</td>\n",
       "      <td>5.552467</td>\n",
       "      <td>0.294953</td>\n",
       "      <td>0.002112</td>\n",
       "      <td>124.000000</td>\n",
       "      <td>3.637388</td>\n",
       "      <td>0.390299</td>\n",
       "      <td>0.126934</td>\n",
       "      <td>0.901039</td>\n",
       "      <td>2.793997</td>\n",
       "      <td>1.671525</td>\n",
       "      <td>0.161770</td>\n",
       "      <td>0.078097</td>\n",
       "      <td>0.326316</td>\n",
       "      <td>0.000000</td>\n",
       "    </tr>\n",
       "    <tr>\n",
       "      <th>max</th>\n",
       "      <td>496.000000</td>\n",
       "      <td>6934.370000</td>\n",
       "      <td>6965.025000</td>\n",
       "      <td>162.020000</td>\n",
       "      <td>7.634803</td>\n",
       "      <td>1.117592</td>\n",
       "      <td>0.007298</td>\n",
       "      <td>733.000000</td>\n",
       "      <td>6.873315</td>\n",
       "      <td>1.031680</td>\n",
       "      <td>0.833887</td>\n",
       "      <td>1.191632</td>\n",
       "      <td>7.780046</td>\n",
       "      <td>2.789273</td>\n",
       "      <td>0.247009</td>\n",
       "      <td>0.195020</td>\n",
       "      <td>1.581189</td>\n",
       "      <td>1.000000</td>\n",
       "    </tr>\n",
       "  </tbody>\n",
       "</table>\n",
       "</div>"
      ],
      "text/plain": [
       "        word_count        start          end     duration  log_mean_pitch  \\\n",
       "count  2100.000000  2100.000000  2100.000000  2100.000000     2083.000000   \n",
       "mean     89.270000  2435.788133  2471.167952    35.379819        5.392156   \n",
       "std      51.231736  1511.991382  1512.338166    21.174534        0.370102   \n",
       "min      40.000000   117.960000   141.440000     8.440000        4.184086   \n",
       "25%      55.000000  1156.340000  1187.670000    21.336250        5.171288   \n",
       "50%      73.000000  2305.107500  2345.472500    29.155000        5.403509   \n",
       "75%     107.000000  3508.350000  3543.247500    42.685000        5.552467   \n",
       "max     496.000000  6934.370000  6965.025000   162.020000        7.634803   \n",
       "\n",
       "       log_stdev_pitch  rate_of_change_log_variance  onset_count   onset_rate  \\\n",
       "count      2083.000000                  2083.000000  2100.000000  2100.000000   \n",
       "mean          0.252176                     0.001675   103.370476     3.072755   \n",
       "std           0.183147                     0.000830    64.303161     0.996652   \n",
       "min           0.004621                     0.000019     0.000000     0.000000   \n",
       "25%           0.143366                     0.001147    64.000000     2.451407   \n",
       "50%           0.200708                     0.001612    88.000000     3.004978   \n",
       "75%           0.294953                     0.002112   124.000000     3.637388   \n",
       "max           1.117592                     0.007298   733.000000     6.873315   \n",
       "\n",
       "       onset_time_diff_mean  onset_time_diff_var  onset_strength_mean  \\\n",
       "count           2100.000000          2100.000000          2100.000000   \n",
       "mean               0.329917             0.098468             0.782963   \n",
       "std                0.108919             0.071000             0.172111   \n",
       "min                0.000000             0.000000             0.000000   \n",
       "25%                0.263837             0.052760             0.687863   \n",
       "50%                0.320000             0.080771             0.786383   \n",
       "75%                0.390299             0.126934             0.901039   \n",
       "max                1.031680             0.833887             1.191632   \n",
       "\n",
       "       onset_strength_seg_var  onset_strength_seg_std  onset_delta_abs_mean  \\\n",
       "count             2100.000000             2100.000000           2100.000000   \n",
       "mean                 2.333696                1.484643              0.143437   \n",
       "std                  0.997000                0.359991              0.033660   \n",
       "min                  0.000000                0.000000              0.000000   \n",
       "25%                  1.690566                1.300217              0.126752   \n",
       "50%                  2.144242                1.464323              0.142786   \n",
       "75%                  2.793997                1.671525              0.161770   \n",
       "max                  7.780046                2.789273              0.247009   \n",
       "\n",
       "       onset_delta_var  bert-gs_scores  Grandstanding_ind  \n",
       "count      2100.000000     2100.000000        2100.000000  \n",
       "mean          0.063113       -0.171621           0.036190  \n",
       "std           0.027439        0.682459           0.186808  \n",
       "min           0.000000       -1.914418           0.000000  \n",
       "25%           0.044927       -0.659403           0.000000  \n",
       "50%           0.058742       -0.153473           0.000000  \n",
       "75%           0.078097        0.326316           0.000000  \n",
       "max           0.195020        1.581189           1.000000  "
      ]
     },
     "execution_count": 22,
     "metadata": {},
     "output_type": "execute_result"
    }
   ],
   "source": [
    "data.describe()"
   ]
  },
  {
   "cell_type": "code",
   "execution_count": 26,
   "id": "jewish-peeing",
   "metadata": {},
   "outputs": [
    {
     "data": {
      "text/plain": [
       "35.379819047285714"
      ]
     },
     "execution_count": 26,
     "metadata": {},
     "output_type": "execute_result"
    }
   ],
   "source": [
    "data['duration'].mean()"
   ]
  },
  {
   "cell_type": "code",
   "execution_count": 27,
   "id": "inner-recognition",
   "metadata": {},
   "outputs": [],
   "source": [
    "data['duration_ind'] = np.where(data['duration']>data['duration'].mean(),1,0)"
   ]
  },
  {
   "cell_type": "code",
   "execution_count": 29,
   "id": "least-upset",
   "metadata": {},
   "outputs": [],
   "source": [
    "data['duration_ind'] = np.where(data['duration']>data['duration'].mean(),1,0)\n",
    "data['log_mean_pitch_ind'] = np.where(data['log_mean_pitch']>data['log_mean_pitch'].mean(),1,0)\n",
    "data['log_stdev_pitch_ind'] = np.where(data['log_stdev_pitch']>data['log_stdev_pitch'].mean(),1,0)\n",
    "data['rate_of_change_log_variance_ind'] = np.where(data['rate_of_change_log_variance']>data['rate_of_change_log_variance'].mean(),1,0)\n",
    "data['onset_count_ind'] = np.where(data['onset_count']>data['onset_count'].mean(),1,0)\n",
    "data['onset_rate_ind'] = np.where(data['onset_rate']>data['onset_rate'].mean(),1,0)\n",
    "data['onset_time_diff_mean_ind'] = np.where(data['onset_time_diff_mean']>data['onset_time_diff_mean'].mean(),1,0)\n",
    "data['onset_time_diff_var_ind'] = np.where(data['onset_time_diff_var']>data['onset_time_diff_var'].mean(),1,0)\n",
    "data['onset_strength_mean_ind'] = np.where(data['onset_strength_mean']>data['onset_strength_mean'].mean(),1,0)\n",
    "data['onset_strength_seg_var_ind'] = np.where(data['onset_strength_seg_var']>data['onset_strength_seg_var'].mean(),1,0)\n",
    "data['onset_strength_seg_std_ind'] = np.where(data['onset_strength_seg_std']>data['onset_strength_seg_std'].mean(),1,0)\n",
    "data['onset_delta_abs_mean_ind'] = np.where(data['onset_delta_abs_mean']>data['onset_delta_abs_mean'].mean(),1,0)\n",
    "data['onset_delta_var_ind'] = np.where(data['onset_delta_var']>data['onset_delta_var'].mean(),1,0)\n",
    "\n",
    "\n",
    "\n",
    "\n",
    "\n"
   ]
  },
  {
   "cell_type": "code",
   "execution_count": 59,
   "id": "animated-correspondence",
   "metadata": {},
   "outputs": [],
   "source": [
    "# data"
   ]
  },
  {
   "cell_type": "code",
   "execution_count": 40,
   "id": "signed-niger",
   "metadata": {},
   "outputs": [],
   "source": [
    "new_data = data.iloc[:, -14:]"
   ]
  },
  {
   "cell_type": "code",
   "execution_count": 42,
   "id": "liberal-category",
   "metadata": {},
   "outputs": [],
   "source": [
    "X = new_data.loc[:, new_data.columns != 'Grandstanding_ind']\n",
    "y = new_data.loc[:, new_data.columns == 'Grandstanding_ind']"
   ]
  },
  {
   "cell_type": "code",
   "execution_count": 45,
   "id": "absent-portrait",
   "metadata": {},
   "outputs": [],
   "source": [
    "os = SMOTE(random_state=123)\n",
    "X_train, X_test, y_train, y_test = train_test_split(X, y, test_size=0.2, random_state=0)\n",
    "columns = X_train.columns\n",
    "os_data_X,os_data_y=os.fit_sample(X_train, y_train)\n",
    "os_data_X = pd.DataFrame(data=os_data_X,columns=columns )\n",
    "os_data_y= pd.DataFrame(data=os_data_y,columns=['Grandstanding_ind'])\n",
    "\n"
   ]
  },
  {
   "cell_type": "code",
   "execution_count": 52,
   "id": "marked-drama",
   "metadata": {},
   "outputs": [
    {
     "data": {
      "text/plain": [
       "LogisticRegression()"
      ]
     },
     "execution_count": 52,
     "metadata": {},
     "output_type": "execute_result"
    }
   ],
   "source": [
    "from sklearn.linear_model import LogisticRegression\n",
    "from sklearn import metrics\n",
    "logreg = LogisticRegression()\n",
    "logreg.fit(os_data_X, os_data_y.values.ravel())"
   ]
  },
  {
   "cell_type": "code",
   "execution_count": 54,
   "id": "purple-hunter",
   "metadata": {},
   "outputs": [
    {
     "name": "stdout",
     "output_type": "stream",
     "text": [
      "Accuracy of logistic regression classifier on test set: 0.71\n"
     ]
    }
   ],
   "source": [
    "y_pred = logreg.predict(X_test)\n",
    "print('Accuracy of logistic regression classifier on test set: {:.2f}'.format(logreg.score(os_data_X, os_data_y)))"
   ]
  },
  {
   "cell_type": "code",
   "execution_count": 55,
   "id": "structural-visitor",
   "metadata": {},
   "outputs": [
    {
     "name": "stdout",
     "output_type": "stream",
     "text": [
      "[[279 128]\n",
      " [  8   5]]\n"
     ]
    }
   ],
   "source": [
    "from sklearn.metrics import confusion_matrix\n",
    "confusion_matrix = confusion_matrix(y_test, y_pred)\n",
    "print(confusion_matrix)\n",
    "\n",
    "TN = confusion_matrix[0][0]\n",
    "FN = confusion_matrix[1][0]\n",
    "TP = confusion_matrix[1][1]\n",
    "FP = confusion_matrix[0][1]"
   ]
  },
  {
   "cell_type": "code",
   "execution_count": 56,
   "id": "sonic-negative",
   "metadata": {},
   "outputs": [
    {
     "data": {
      "image/png": "[encoded data removed]",
      "text/plain": [
       "<Figure size 432x288 with 1 Axes>"
      ]
     },
     "metadata": {
      "needs_background": "light"
     },
     "output_type": "display_data"
    }
   ],
   "source": [
    "from sklearn.metrics import roc_auc_score\n",
    "from sklearn.metrics import roc_curve\n",
    "logit_roc_auc = roc_auc_score(y_test, logreg.predict(X_test))\n",
    "fpr, tpr, thresholds = roc_curve(y_test, logreg.predict_proba(X_test)[:,1])\n",
    "plt.figure()\n",
    "plt.plot(fpr, tpr, label='Logistic Regression (area = %0.2f)' % logit_roc_auc)\n",
    "plt.plot([0, 1], [0, 1],'r--')\n",
    "plt.xlim([0.0, 1.0])\n",
    "plt.ylim([0.0, 1.05])\n",
    "plt.xlabel('False Positive Rate')\n",
    "plt.ylabel('True Positive Rate')\n",
    "plt.title('Receiver operating characteristic')\n",
    "plt.legend(loc=\"lower right\")\n",
    "plt.savefig('Log_ROC')\n",
    "plt.show()"
   ]
  },
  {
   "cell_type": "code",
   "execution_count": 57,
   "id": "serial-personal",
   "metadata": {},
   "outputs": [
    {
     "name": "stdout",
     "output_type": "stream",
     "text": [
      "[[ 0.26141932 -1.08419411 -0.18050962  0.05601148 -0.4085247  -2.03959021\n",
      "  -0.79641717 -0.47116505 -0.95085114  2.73106231  0.05036004 -1.24107907\n",
      "  -0.74870184]]\n"
     ]
    }
   ],
   "source": [
    "print(logreg.coef_)"
   ]
  },
  {
   "cell_type": "code",
   "execution_count": null,
   "id": "standing-kingdom",
   "metadata": {},
   "outputs": [],
   "source": []
  }
 ],
 "metadata": {
  "kernelspec": {
   "display_name": "Python 3",
   "language": "python",
   "name": "python3"
  },
  "language_info": {
   "codemirror_mode": {
    "name": "ipython",
    "version": 3
   },
   "file_extension": ".py",
   "mimetype": "text/x-python",
   "name": "python",
   "nbconvert_exporter": "python",
   "pygments_lexer": "ipython3",
   "version": "3.7.4"
  }
 },
 "nbformat": 4,
 "nbformat_minor": 5
}
